{
 "cells": [
  {
   "cell_type": "code",
   "execution_count": 2,
   "metadata": {
    "scrolled": true
   },
   "outputs": [
    {
     "name": "stdout",
     "output_type": "stream",
     "text": [
      "Collecting stable-baselines3\n",
      "  Using cached https://files.pythonhosted.org/packages/c2/ce/5002282b316703191b9e7f7f1be03670f6a0d5e88181366e73d98d630f59/stable_baselines3-1.1.0-py3-none-any.whl\n",
      "Requirement already satisfied: pandas in /home/melodic/snap/jupyter/common/lib/python3.7/site-packages (from stable-baselines3) (1.3.0)\n",
      "Collecting cloudpickle (from stable-baselines3)\n",
      "  Using cached https://files.pythonhosted.org/packages/e7/e3/898487e5dbeb612054cf2e0c188463acb358167fef749c53c8bb8918cea1/cloudpickle-1.6.0-py3-none-any.whl\n",
      "Requirement already satisfied: numpy in /home/melodic/snap/jupyter/common/lib/python3.7/site-packages (from stable-baselines3) (1.19.5)\n",
      "Requirement already satisfied: matplotlib in /home/melodic/snap/jupyter/common/lib/python3.7/site-packages (from stable-baselines3) (3.4.2)\n",
      "Collecting torch>=1.4.0 (from stable-baselines3)\n",
      "  Using cached https://files.pythonhosted.org/packages/d2/a9/b3cea4a97ffabd6639e71608814dbd08081e202e8ac9580250273c0541ff/torch-1.9.0-cp37-cp37m-manylinux1_x86_64.whl\n",
      "Collecting gym>=0.17 (from stable-baselines3)\n",
      "Requirement already satisfied: pytz>=2017.3 in /home/melodic/snap/jupyter/common/lib/python3.7/site-packages (from pandas->stable-baselines3) (2021.1)\n",
      "Requirement already satisfied: python-dateutil>=2.7.3 in /snap/jupyter/6/lib/python3.7/site-packages (from pandas->stable-baselines3) (2.8.0)\n",
      "Requirement already satisfied: pillow>=6.2.0 in /home/melodic/snap/jupyter/common/lib/python3.7/site-packages (from matplotlib->stable-baselines3) (8.3.1)\n",
      "Requirement already satisfied: cycler>=0.10 in /home/melodic/snap/jupyter/common/lib/python3.7/site-packages (from matplotlib->stable-baselines3) (0.10.0)\n",
      "Requirement already satisfied: kiwisolver>=1.0.1 in /home/melodic/snap/jupyter/common/lib/python3.7/site-packages (from matplotlib->stable-baselines3) (1.3.1)\n",
      "Requirement already satisfied: pyparsing>=2.2.1 in /home/melodic/snap/jupyter/common/lib/python3.7/site-packages (from matplotlib->stable-baselines3) (2.4.7)\n",
      "Requirement already satisfied: typing-extensions in /home/melodic/snap/jupyter/common/lib/python3.7/site-packages (from torch>=1.4.0->stable-baselines3) (3.7.4.3)\n",
      "Collecting scipy (from gym>=0.17->stable-baselines3)\n",
      "  Using cached https://files.pythonhosted.org/packages/b5/6b/8bc0b61ebf824f8c3979a31368bbe38dd247590049a994ab0ed077cb56dc/scipy-1.7.1-cp37-cp37m-manylinux_2_5_x86_64.manylinux1_x86_64.whl\n",
      "Collecting pyglet<=1.5.15,>=1.4.0 (from gym>=0.17->stable-baselines3)\n",
      "  Using cached https://files.pythonhosted.org/packages/81/5e/aef9e460989e4b832215d5fcee3ea9b0629e9bce8607284d9c1021b6a251/pyglet-1.5.15-py3-none-any.whl\n",
      "Requirement already satisfied: six>=1.5 in /home/melodic/snap/jupyter/common/lib/python3.7/site-packages (from python-dateutil>=2.7.3->pandas->stable-baselines3) (1.15.0)\n",
      "\u001b[31mERROR: gym 0.18.3 has requirement Pillow<=8.2.0, but you'll have pillow 8.3.1 which is incompatible.\u001b[0m\n",
      "Installing collected packages: cloudpickle, torch, scipy, pyglet, gym, stable-baselines3\n",
      "Successfully installed cloudpickle-1.6.0 gym-0.18.3 pyglet-1.5.15 scipy-1.7.1 stable-baselines3-1.1.0 torch-1.9.0\n"
     ]
    }
   ],
   "source": [
    "!pip install stable-baselines3"
   ]
  },
  {
   "cell_type": "code",
   "execution_count": 3,
   "metadata": {},
   "outputs": [
    {
     "name": "stdout",
     "output_type": "stream",
     "text": [
      "Requirement already satisfied: pandas==1.3.0 in /home/melodic/snap/jupyter/common/lib/python3.7/site-packages (1.3.0)\n",
      "Requirement already satisfied: python-dateutil>=2.7.3 in /snap/jupyter/6/lib/python3.7/site-packages (from pandas==1.3.0) (2.8.0)\n",
      "Requirement already satisfied: numpy>=1.17.3 in /home/melodic/snap/jupyter/common/lib/python3.7/site-packages (from pandas==1.3.0) (1.19.5)\n",
      "Requirement already satisfied: pytz>=2017.3 in /home/melodic/snap/jupyter/common/lib/python3.7/site-packages (from pandas==1.3.0) (2021.1)\n",
      "Requirement already satisfied: six>=1.5 in /home/melodic/snap/jupyter/common/lib/python3.7/site-packages (from python-dateutil>=2.7.3->pandas==1.3.0) (1.15.0)\n"
     ]
    }
   ],
   "source": [
    "!python -m pip install pandas==1.3.0"
   ]
  },
  {
   "cell_type": "code",
   "execution_count": 4,
   "metadata": {},
   "outputs": [],
   "source": [
    "from stable_baselines3 import PPO"
   ]
  },
  {
   "cell_type": "code",
   "execution_count": 5,
   "metadata": {},
   "outputs": [
    {
     "data": {
      "text/plain": [
       "stable_baselines3.ppo.ppo.PPO"
      ]
     },
     "execution_count": 5,
     "metadata": {},
     "output_type": "execute_result"
    }
   ],
   "source": [
    "PPO"
   ]
  },
  {
   "cell_type": "code",
   "execution_count": null,
   "metadata": {},
   "outputs": [],
   "source": []
  }
 ],
 "metadata": {
  "kernelspec": {
   "display_name": "Python 3",
   "language": "python",
   "name": "python3"
  },
  "language_info": {
   "codemirror_mode": {
    "name": "ipython",
    "version": 3
   },
   "file_extension": ".py",
   "mimetype": "text/x-python",
   "name": "python",
   "nbconvert_exporter": "python",
   "pygments_lexer": "ipython3",
   "version": "3.7.3"
  }
 },
 "nbformat": 4,
 "nbformat_minor": 2
}
